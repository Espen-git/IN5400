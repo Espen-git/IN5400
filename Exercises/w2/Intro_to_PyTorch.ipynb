{
  "nbformat": 4,
  "nbformat_minor": 0,
  "metadata": {
    "colab": {
      "name": "Intro to PyTorch.ipynb",
      "provenance": []
    },
    "kernelspec": {
      "name": "python3",
      "display_name": "Python 3"
    },
    "language_info": {
      "name": "python"
    },
    "accelerator": "GPU"
  },
  "cells": [
    {
      "cell_type": "code",
      "execution_count": null,
      "metadata": {
        "id": "lBcQzwVAKuKx"
      },
      "outputs": [],
      "source": [
        "# https://horace.io/pytorch-vs-tensorflow/\n",
        "\n",
        "import torch\n",
        "import numpy as np\n",
        "from IPython.display import display, Latex, Math"
      ]
    },
    {
      "cell_type": "markdown",
      "source": [
        "# Slide 9"
      ],
      "metadata": {
        "id": "dOjLEv_qSBaj"
      }
    },
    {
      "cell_type": "code",
      "source": [
        "lat = \"\\begin{bmatrix}\\ 1 & 2\\\\ 3 & 4\\\\ \\end{bmatrix}\"\n",
        "\n",
        "display(Latex(f'$L(\\lambda x) = \\lambda L(x)$'))\n",
        "display(Latex(f'$L(x + y) = L(x) + L(y)$'))\n",
        "\n",
        "print(\"\\n 0-Tensor: Scalar\")\n",
        "display(Math(r'\\begin{bmatrix}1\\\\\\end{bmatrix}'))\n",
        "\n",
        "print(\"\\n 1-Tensor: Vector\")\n",
        "display(Math(r'\\begin{bmatrix}1 & 2\\\\\\end{bmatrix}'))\n",
        "\n",
        "print(\"\\n 2-Tensor: Matrix\")\n",
        "display(Math(r'\\begin{bmatrix}1 & 2\\\\3 & 4\\\\\\end{bmatrix}'))\n",
        "\n",
        "print(\"\\n 3-Tensor: 3D-Array\")\n",
        "display(Math(r'\\begin{bmatrix}\\begin{bmatrix}1 & 2\\\\3 & 4\\\\\\end{bmatrix}, \\begin{bmatrix}5 & 6\\\\7 & 8\\\\\\end{bmatrix}\\end{bmatrix}'))\n"
      ],
      "metadata": {
        "id": "IFGHhSCFPZ_w"
      },
      "execution_count": null,
      "outputs": []
    },
    {
      "cell_type": "markdown",
      "source": [
        "# Slide 11"
      ],
      "metadata": {
        "id": "NXAyzVG1TDUm"
      }
    },
    {
      "cell_type": "code",
      "source": [
        "x= torch.zeros((5,1))\n",
        "print(x)"
      ],
      "metadata": {
        "id": "PcJss7rFLBXp"
      },
      "execution_count": null,
      "outputs": []
    },
    {
      "cell_type": "code",
      "source": [
        "y= torch.ones((5))\n",
        "print(y)"
      ],
      "metadata": {
        "id": "Ed_fx4jVLTTD"
      },
      "execution_count": null,
      "outputs": []
    },
    {
      "cell_type": "code",
      "source": [
        "z= torch.empty((3,2,3))\n",
        "print(z)"
      ],
      "metadata": {
        "id": "rbZxdRhGLTi0"
      },
      "execution_count": null,
      "outputs": []
    },
    {
      "cell_type": "code",
      "source": [
        "a = torch.empty((2,2,3,3)).fill_(32.) # initializes to some value\n",
        "print(a)"
      ],
      "metadata": {
        "id": "MDBvWiUkLTwy"
      },
      "execution_count": null,
      "outputs": []
    },
    {
      "cell_type": "code",
      "source": [
        "b= a.new_full((3,2),42.) # with same type and device as tensor \"a\"\n",
        "print(b)"
      ],
      "metadata": {
        "id": "GkcBrawCLT4I"
      },
      "execution_count": null,
      "outputs": []
    },
    {
      "cell_type": "code",
      "source": [
        "c = torch.full((2, 3), 3.141592)\n",
        "print(c)"
      ],
      "metadata": {
        "id": "abFzAsbjLdQf"
      },
      "execution_count": null,
      "outputs": []
    },
    {
      "cell_type": "code",
      "source": [
        "d = torch.randn((2, 3))\n",
        "print(d)"
      ],
      "metadata": {
        "id": "r8lSL8_hLOSC"
      },
      "execution_count": null,
      "outputs": []
    },
    {
      "cell_type": "markdown",
      "source": [
        "# Slide 12"
      ],
      "metadata": {
        "id": "y2dEBeahTANB"
      }
    },
    {
      "cell_type": "code",
      "source": [
        "# from numpy:\n",
        "a=np.random.normal(5,size=(2,3)).astype('float32')\n",
        "x=torch.tensor(a, requires_grad=True) # this copies data\n",
        "x2=torch.as_tensor(a) # this does NOT COPY data\n",
        "x3=torch.from_numpy(a) # this does NOT COPY data"
      ],
      "metadata": {
        "id": "a3bGfrqDL1mk"
      },
      "execution_count": null,
      "outputs": []
    },
    {
      "cell_type": "code",
      "source": [
        "print(\"a:\", a, \"\\n\\t\\t------\")\n",
        "\n",
        "a[0,0] = 50\n",
        "\n",
        "print(\"x:\", x, \"\\n\\t\\t------\")\n",
        "\n",
        "print(\"x2:\", x2, \"\\n\\t\\t------\")"
      ],
      "metadata": {
        "id": "ilym-woePuRv"
      },
      "execution_count": null,
      "outputs": []
    },
    {
      "cell_type": "code",
      "source": [
        "# to numpy:\n",
        "nparr1 = x.data.numpy()\n",
        "print(nparr1)"
      ],
      "metadata": {
        "id": "iZAXI51YNdQr"
      },
      "execution_count": null,
      "outputs": []
    },
    {
      "cell_type": "code",
      "source": [
        "nparr2 = x.numpy() # x.numpy() works only if it has no grad function"
      ],
      "metadata": {
        "id": "UuWkyqN1R2Un"
      },
      "execution_count": null,
      "outputs": []
    },
    {
      "cell_type": "code",
      "source": [
        "nparr2 = x.detach().numpy()\n",
        "print(nparr2)"
      ],
      "metadata": {
        "id": "qsoTSedpPcqd"
      },
      "execution_count": null,
      "outputs": []
    },
    {
      "cell_type": "markdown",
      "source": [
        "# Slide 13"
      ],
      "metadata": {
        "id": "zvtrNzMdTKKH"
      }
    },
    {
      "cell_type": "code",
      "source": [
        "x= torch.empty((2,3))\n",
        "\n",
        "print(x.size())\n",
        "\n",
        "print(x.shape)\n",
        "\n",
        "print(x.dtype)\n",
        "\n",
        "print(x.device)"
      ],
      "metadata": {
        "id": "qVf-HZquTJND"
      },
      "execution_count": null,
      "outputs": []
    },
    {
      "cell_type": "markdown",
      "source": [
        "#Slide 17"
      ],
      "metadata": {
        "id": "TtSGpg_zhx_Z"
      }
    },
    {
      "cell_type": "code",
      "source": [
        "# type casting\n",
        "a=np.random.normal(5,size=(2,3))\n",
        "print(\"a.dtype: \", a.dtype)\n",
        "\n",
        "x=torch.tensor(a)\n",
        "print(\"x.dtype: \", x.dtype)\n",
        "\n",
        "b = torch.tensor(a, dtype=torch.float32)\n",
        "print(\"b.dtype: \", b.dtype)\n",
        "\n",
        "c= x.to(torch.float32)\n",
        "print(\"c.dtype: \", c.dtype)\n",
        "\n",
        "d= x.type(torch.FloatTensor)\n",
        "print(\"d.dtype: \", d.dtype)\n"
      ],
      "metadata": {
        "id": "nG3I2s68h0eB"
      },
      "execution_count": null,
      "outputs": []
    },
    {
      "cell_type": "markdown",
      "source": [
        "# Slide 18"
      ],
      "metadata": {
        "id": "j4m_JrnntIJE"
      }
    },
    {
      "cell_type": "code",
      "source": [
        "print(torch.cuda.is_available())\n",
        "\n",
        "print(torch.cuda.current_device())\n",
        "\n",
        "print(torch.cuda.device(0))\n",
        "\n",
        "print(torch.cuda.device_count())\n",
        "\n",
        "print(torch.cuda.get_device_name(0))\n"
      ],
      "metadata": {
        "id": "PBOGu1Citf60"
      },
      "execution_count": null,
      "outputs": []
    },
    {
      "cell_type": "code",
      "source": [
        "a=np.random.normal(5,size=(2,3))\n",
        "x=torch.tensor(a)\n",
        "\n",
        "print(\"x.device: \", x.device, \"\\n\")\n",
        "b= x.to('cuda:0')\n",
        "print(\"b.device: \", b.device)"
      ],
      "metadata": {
        "id": "-gtD6rdFtLSX"
      },
      "execution_count": null,
      "outputs": []
    },
    {
      "cell_type": "markdown",
      "source": [
        "# Slide 19"
      ],
      "metadata": {
        "id": "vLRgGAZ7kegJ"
      }
    },
    {
      "cell_type": "code",
      "source": [
        "x=torch.ones((20))\n",
        "y=x.view((4,5))\n",
        "print(y.shape)"
      ],
      "metadata": {
        "id": "B22jSC4jkgf5"
      },
      "execution_count": null,
      "outputs": []
    },
    {
      "cell_type": "code",
      "source": [
        "z=x.view((-1,5)) #-1 joker\n",
        "print(z.shape)\n",
        "\n",
        "z=x.view((-1,10)) #-1 joker\n",
        "print(z.shape)"
      ],
      "metadata": {
        "id": "zGQblzk4lEie"
      },
      "execution_count": null,
      "outputs": []
    },
    {
      "cell_type": "markdown",
      "source": [
        "# Slide 21"
      ],
      "metadata": {
        "id": "tthXjbOkSqOk"
      }
    },
    {
      "cell_type": "code",
      "source": [
        "a = torch.ones((1))\n",
        "print(a)\n",
        "b = torch.ones((1, 4))\n",
        "print(b)"
      ],
      "metadata": {
        "id": "chHjRZk0xl0c"
      },
      "execution_count": null,
      "outputs": []
    },
    {
      "cell_type": "code",
      "source": [
        "c = torch.add(a, b)\n",
        "print(c.shape)\n",
        "print(c)"
      ],
      "metadata": {
        "id": "LyRIJFUMxz1E"
      },
      "execution_count": null,
      "outputs": []
    },
    {
      "cell_type": "code",
      "source": [
        "a= torch.full((2,3),3.)\n",
        "b= torch.full((5,1,3),3.)\n",
        "c= a+b"
      ],
      "metadata": {
        "id": "v-fUtIRKmxk6"
      },
      "execution_count": null,
      "outputs": []
    },
    {
      "cell_type": "code",
      "source": [
        "print(c.shape)"
      ],
      "metadata": {
        "id": "YT9BQIArSvdk"
      },
      "execution_count": null,
      "outputs": []
    },
    {
      "cell_type": "markdown",
      "source": [
        "# Slide 22"
      ],
      "metadata": {
        "id": "GL98pQgVTEDg"
      }
    },
    {
      "cell_type": "code",
      "source": [
        "a = torch.ones((4))\n",
        "b = torch.ones((1, 4))\n",
        "c = torch.add(a, b)\n",
        "print(c)\n",
        "print(c.shape)"
      ],
      "metadata": {
        "id": "KZCjrqhDTBtc"
      },
      "execution_count": null,
      "outputs": []
    },
    {
      "cell_type": "code",
      "source": [
        "a = torch.ones((4))\n",
        "b = torch.ones((4, 1))\n",
        "c = torch.add(a, b)\n",
        "print(c)\n",
        "print(c.shape)"
      ],
      "metadata": {
        "id": "OPbiO5eFw_v7"
      },
      "execution_count": null,
      "outputs": []
    },
    {
      "cell_type": "code",
      "source": [
        "a =torch.ones((3))\n",
        "b =torch.ones((4, 1))\n",
        "c = torch.add(a, b)\n",
        "print(c)\n",
        "print(c.shape)"
      ],
      "metadata": {
        "id": "NDfmKeMbxG8G"
      },
      "execution_count": null,
      "outputs": []
    },
    {
      "cell_type": "code",
      "source": [
        "a =torch.ones((3))\n",
        "b =torch.ones((1, 4))\n",
        "c = torch.add(a, b) "
      ],
      "metadata": {
        "id": "hSuzUMKUxKLT"
      },
      "execution_count": null,
      "outputs": []
    },
    {
      "cell_type": "code",
      "source": [
        "a =torch.tensor([0,1,2,3])\n",
        "print(a)\n",
        "b =torch.tensor([0,1,2,3]).reshape((4,1))\n",
        "print(b)\n",
        "c = torch.add(a, b)\n",
        "print(c)"
      ],
      "metadata": {
        "id": "p2aik9jRTWCU"
      },
      "execution_count": null,
      "outputs": []
    },
    {
      "cell_type": "markdown",
      "source": [
        "\n",
        "\n",
        "1.   Extend the dimensions by adding singletons until the num_dim is equal\n",
        "2.   Check for compatibility\n",
        "3.   Copy if necessary\n",
        "4.   Perform the operation\n",
        "\n",
        "---\n",
        "\n",
        "\n",
        "\n"
      ],
      "metadata": {
        "id": "xGpYSseGzi7f"
      }
    },
    {
      "cell_type": "markdown",
      "source": [
        "# Slide 27"
      ],
      "metadata": {
        "id": "0oUihlotUtqn"
      }
    },
    {
      "cell_type": "code",
      "source": [
        "a =torch.tensor([0,1,2,3])\n",
        "b = torch.dot(a, a)\n",
        "\n",
        "print(b)\n",
        "print(b.shape)"
      ],
      "metadata": {
        "id": "Wr8w6p4LUvAB"
      },
      "execution_count": null,
      "outputs": []
    },
    {
      "cell_type": "markdown",
      "source": [
        "# Slide 30"
      ],
      "metadata": {
        "id": "NAHcPbCuWANh"
      }
    },
    {
      "cell_type": "code",
      "source": [
        "a = torch.tensor([range(12)]).reshape((3,4))\n",
        "print(a)\n",
        "print(a.shape, \"\\n\")\n",
        "\n",
        "b = torch.transpose(a, 1, 0)\n",
        "print(b)\n",
        "print(b.shape, \"\\n\")\n",
        "\n",
        "c = a.permute([1,0])\n",
        "print(c)\n",
        "print(c.shape) "
      ],
      "metadata": {
        "id": "0fnSRNItWB2i"
      },
      "execution_count": null,
      "outputs": []
    },
    {
      "cell_type": "code",
      "source": [
        "a = torch.tensor([range(24)]).reshape((2,3,4))\n",
        "print(a)\n",
        "print(a.shape, \"\\n\")\n",
        "\n",
        "b = a.permute([1,2,0])\n",
        "print(b)\n",
        "print(b.shape, \"\\n\")"
      ],
      "metadata": {
        "id": "S7XkZbgBwf_q"
      },
      "execution_count": null,
      "outputs": []
    },
    {
      "cell_type": "markdown",
      "source": [
        "# Slide 38"
      ],
      "metadata": {
        "id": "r67hSefAY1bH"
      }
    },
    {
      "cell_type": "code",
      "source": [
        "x = torch.rand(5, 5)\n",
        "y = torch.rand(5, 5)\n",
        "z = torch.rand((5, 5), requires_grad=True)\n",
        "\n",
        "a = x + y\n",
        "print(f\"Does `a` require gradients? : {a.requires_grad}\")\n",
        "b = x + z\n",
        "print(f\"Does `b` require gradients?: {b.requires_grad}\")"
      ],
      "metadata": {
        "id": "KZeLLPV4Y23L"
      },
      "execution_count": null,
      "outputs": []
    },
    {
      "cell_type": "markdown",
      "source": [
        "# Other"
      ],
      "metadata": {
        "id": "TtUgJ2PEUtsf"
      }
    },
    {
      "cell_type": "code",
      "source": [
        "x = torch.tensor(1.0, requires_grad = True)\n",
        "z = x ** 3 # z=x^3\n",
        "\n",
        "z.backward() #Computes the gradient \n",
        "print(x.grad.data) # this is dz/dx"
      ],
      "metadata": {
        "id": "ge4dt4RmUef0"
      },
      "execution_count": null,
      "outputs": []
    },
    {
      "cell_type": "code",
      "source": [
        "import numpy as np\n",
        "\n",
        "\n",
        "def print_graph(g, level=0):\n",
        "    if g is None:\n",
        "        return\n",
        "    print('*' * level * 1, g)\n",
        "    for subg in g.next_functions:\n",
        "        print_graph(subg[0], level + 1)\n",
        "\n",
        "\n",
        "a = torch.ones((2, 1), requires_grad=True)\n",
        "\n",
        "b = torch.tensor(2 * np.ones((2, 1), dtype=np.float32), requires_grad=True)\n",
        "\n",
        "c = torch.tensor(3 * np.ones((2, 1), dtype=np.float32), requires_grad=True)\n",
        "\n",
        "d = a + b\n",
        "e = d * c\n",
        "print(e)\n",
        "\n",
        "print_graph(e.grad_fn, 0)"
      ],
      "metadata": {
        "id": "2FujvFCAWE9x"
      },
      "execution_count": null,
      "outputs": []
    },
    {
      "cell_type": "code",
      "source": [
        "x = torch.ones(5)  # input tensor\n",
        "y = torch.zeros(3)  # expected output\n",
        "w = torch.randn(5, 3, requires_grad=True)\n",
        "b = torch.randn(3, requires_grad=True)\n",
        "z = torch.matmul(x, w)+b\n",
        "loss = torch.nn.functional.binary_cross_entropy_with_logits(z, y)\n",
        "\n",
        "loss.backward()\n",
        "\n",
        "print(w.grad) # d(...backward)/d(...grad)\n",
        "print(b.grad)"
      ],
      "metadata": {
        "id": "2V7Xr_INcth9"
      },
      "execution_count": null,
      "outputs": []
    }
  ]
}